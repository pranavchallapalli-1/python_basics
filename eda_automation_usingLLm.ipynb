{
 "cells": [
  {
   "cell_type": "markdown",
   "metadata": {},
   "source": [
    "## EDA automation using LLMs"
   ]
  },
  {
   "cell_type": "code",
   "execution_count": 27,
   "metadata": {},
   "outputs": [
    {
     "name": "stderr",
     "output_type": "stream",
     "text": [
      "c:\\Users\\dell\\AppData\\Local\\Programs\\Python\\Python312\\Lib\\site-packages\\tqdm\\auto.py:21: TqdmWarning: IProgress not found. Please update jupyter and ipywidgets. See https://ipywidgets.readthedocs.io/en/stable/user_install.html\n",
      "  from .autonotebook import tqdm as notebook_tqdm\n"
     ]
    }
   ],
   "source": [
    "import pandas as pd\n",
    "import ollama\n",
    "import gradio as gr\n"
   ]
  },
  {
   "cell_type": "code",
   "execution_count": 12,
   "metadata": {},
   "outputs": [],
   "source": [
    "data=pd.read_csv(\"titanic dataset.csv\")"
   ]
  },
  {
   "cell_type": "code",
   "execution_count": 13,
   "metadata": {},
   "outputs": [
    {
     "data": {
      "application/vnd.microsoft.datawrangler.viewer.v0+json": {
       "columns": [
        {
         "name": "index",
         "rawType": "int64",
         "type": "integer"
        },
        {
         "name": "PassengerId",
         "rawType": "int64",
         "type": "integer"
        },
        {
         "name": "Survived",
         "rawType": "int64",
         "type": "integer"
        },
        {
         "name": "Pclass",
         "rawType": "int64",
         "type": "integer"
        },
        {
         "name": "Name",
         "rawType": "object",
         "type": "string"
        },
        {
         "name": "Sex",
         "rawType": "object",
         "type": "string"
        },
        {
         "name": "Age",
         "rawType": "float64",
         "type": "float"
        },
        {
         "name": "SibSp",
         "rawType": "int64",
         "type": "integer"
        },
        {
         "name": "Parch",
         "rawType": "int64",
         "type": "integer"
        },
        {
         "name": "Ticket",
         "rawType": "object",
         "type": "string"
        },
        {
         "name": "Fare",
         "rawType": "float64",
         "type": "float"
        },
        {
         "name": "Cabin",
         "rawType": "object",
         "type": "unknown"
        },
        {
         "name": "Embarked",
         "rawType": "object",
         "type": "string"
        }
       ],
       "conversionMethod": "pd.DataFrame",
       "ref": "00abba60-f63c-43d6-950d-e867ae6f95c5",
       "rows": [
        [
         "0",
         "1",
         "0",
         "3",
         "Braund, Mr. Owen Harris",
         "male",
         "22.0",
         "1",
         "0",
         "A/5 21171",
         "7.25",
         null,
         "S"
        ],
        [
         "1",
         "2",
         "1",
         "1",
         "Cumings, Mrs. John Bradley (Florence Briggs Thayer)",
         "female",
         "38.0",
         "1",
         "0",
         "PC 17599",
         "71.2833",
         "C85",
         "C"
        ],
        [
         "2",
         "3",
         "1",
         "3",
         "Heikkinen, Miss. Laina",
         "female",
         "26.0",
         "0",
         "0",
         "STON/O2. 3101282",
         "7.925",
         null,
         "S"
        ],
        [
         "3",
         "4",
         "1",
         "1",
         "Futrelle, Mrs. Jacques Heath (Lily May Peel)",
         "female",
         "35.0",
         "1",
         "0",
         "113803",
         "53.1",
         "C123",
         "S"
        ],
        [
         "4",
         "5",
         "0",
         "3",
         "Allen, Mr. William Henry",
         "male",
         "35.0",
         "0",
         "0",
         "373450",
         "8.05",
         null,
         "S"
        ]
       ],
       "shape": {
        "columns": 12,
        "rows": 5
       }
      },
      "text/html": [
       "<div>\n",
       "<style scoped>\n",
       "    .dataframe tbody tr th:only-of-type {\n",
       "        vertical-align: middle;\n",
       "    }\n",
       "\n",
       "    .dataframe tbody tr th {\n",
       "        vertical-align: top;\n",
       "    }\n",
       "\n",
       "    .dataframe thead th {\n",
       "        text-align: right;\n",
       "    }\n",
       "</style>\n",
       "<table border=\"1\" class=\"dataframe\">\n",
       "  <thead>\n",
       "    <tr style=\"text-align: right;\">\n",
       "      <th></th>\n",
       "      <th>PassengerId</th>\n",
       "      <th>Survived</th>\n",
       "      <th>Pclass</th>\n",
       "      <th>Name</th>\n",
       "      <th>Sex</th>\n",
       "      <th>Age</th>\n",
       "      <th>SibSp</th>\n",
       "      <th>Parch</th>\n",
       "      <th>Ticket</th>\n",
       "      <th>Fare</th>\n",
       "      <th>Cabin</th>\n",
       "      <th>Embarked</th>\n",
       "    </tr>\n",
       "  </thead>\n",
       "  <tbody>\n",
       "    <tr>\n",
       "      <th>0</th>\n",
       "      <td>1</td>\n",
       "      <td>0</td>\n",
       "      <td>3</td>\n",
       "      <td>Braund, Mr. Owen Harris</td>\n",
       "      <td>male</td>\n",
       "      <td>22.0</td>\n",
       "      <td>1</td>\n",
       "      <td>0</td>\n",
       "      <td>A/5 21171</td>\n",
       "      <td>7.2500</td>\n",
       "      <td>NaN</td>\n",
       "      <td>S</td>\n",
       "    </tr>\n",
       "    <tr>\n",
       "      <th>1</th>\n",
       "      <td>2</td>\n",
       "      <td>1</td>\n",
       "      <td>1</td>\n",
       "      <td>Cumings, Mrs. John Bradley (Florence Briggs Th...</td>\n",
       "      <td>female</td>\n",
       "      <td>38.0</td>\n",
       "      <td>1</td>\n",
       "      <td>0</td>\n",
       "      <td>PC 17599</td>\n",
       "      <td>71.2833</td>\n",
       "      <td>C85</td>\n",
       "      <td>C</td>\n",
       "    </tr>\n",
       "    <tr>\n",
       "      <th>2</th>\n",
       "      <td>3</td>\n",
       "      <td>1</td>\n",
       "      <td>3</td>\n",
       "      <td>Heikkinen, Miss. Laina</td>\n",
       "      <td>female</td>\n",
       "      <td>26.0</td>\n",
       "      <td>0</td>\n",
       "      <td>0</td>\n",
       "      <td>STON/O2. 3101282</td>\n",
       "      <td>7.9250</td>\n",
       "      <td>NaN</td>\n",
       "      <td>S</td>\n",
       "    </tr>\n",
       "    <tr>\n",
       "      <th>3</th>\n",
       "      <td>4</td>\n",
       "      <td>1</td>\n",
       "      <td>1</td>\n",
       "      <td>Futrelle, Mrs. Jacques Heath (Lily May Peel)</td>\n",
       "      <td>female</td>\n",
       "      <td>35.0</td>\n",
       "      <td>1</td>\n",
       "      <td>0</td>\n",
       "      <td>113803</td>\n",
       "      <td>53.1000</td>\n",
       "      <td>C123</td>\n",
       "      <td>S</td>\n",
       "    </tr>\n",
       "    <tr>\n",
       "      <th>4</th>\n",
       "      <td>5</td>\n",
       "      <td>0</td>\n",
       "      <td>3</td>\n",
       "      <td>Allen, Mr. William Henry</td>\n",
       "      <td>male</td>\n",
       "      <td>35.0</td>\n",
       "      <td>0</td>\n",
       "      <td>0</td>\n",
       "      <td>373450</td>\n",
       "      <td>8.0500</td>\n",
       "      <td>NaN</td>\n",
       "      <td>S</td>\n",
       "    </tr>\n",
       "  </tbody>\n",
       "</table>\n",
       "</div>"
      ],
      "text/plain": [
       "   PassengerId  Survived  Pclass  \\\n",
       "0            1         0       3   \n",
       "1            2         1       1   \n",
       "2            3         1       3   \n",
       "3            4         1       1   \n",
       "4            5         0       3   \n",
       "\n",
       "                                                Name     Sex   Age  SibSp  \\\n",
       "0                            Braund, Mr. Owen Harris    male  22.0      1   \n",
       "1  Cumings, Mrs. John Bradley (Florence Briggs Th...  female  38.0      1   \n",
       "2                             Heikkinen, Miss. Laina  female  26.0      0   \n",
       "3       Futrelle, Mrs. Jacques Heath (Lily May Peel)  female  35.0      1   \n",
       "4                           Allen, Mr. William Henry    male  35.0      0   \n",
       "\n",
       "   Parch            Ticket     Fare Cabin Embarked  \n",
       "0      0         A/5 21171   7.2500   NaN        S  \n",
       "1      0          PC 17599  71.2833   C85        C  \n",
       "2      0  STON/O2. 3101282   7.9250   NaN        S  \n",
       "3      0            113803  53.1000  C123        S  \n",
       "4      0            373450   8.0500   NaN        S  "
      ]
     },
     "execution_count": 13,
     "metadata": {},
     "output_type": "execute_result"
    }
   ],
   "source": [
    "data.head()"
   ]
  },
  {
   "cell_type": "code",
   "execution_count": 14,
   "metadata": {},
   "outputs": [
    {
     "name": "stdout",
     "output_type": "stream",
     "text": [
      "<class 'pandas.core.frame.DataFrame'>\n",
      "RangeIndex: 891 entries, 0 to 890\n",
      "Data columns (total 12 columns):\n",
      " #   Column       Non-Null Count  Dtype  \n",
      "---  ------       --------------  -----  \n",
      " 0   PassengerId  891 non-null    int64  \n",
      " 1   Survived     891 non-null    int64  \n",
      " 2   Pclass       891 non-null    int64  \n",
      " 3   Name         891 non-null    object \n",
      " 4   Sex          891 non-null    object \n",
      " 5   Age          714 non-null    float64\n",
      " 6   SibSp        891 non-null    int64  \n",
      " 7   Parch        891 non-null    int64  \n",
      " 8   Ticket       891 non-null    object \n",
      " 9   Fare         891 non-null    float64\n",
      " 10  Cabin        204 non-null    object \n",
      " 11  Embarked     889 non-null    object \n",
      "dtypes: float64(2), int64(5), object(5)\n",
      "memory usage: 83.7+ KB\n"
     ]
    }
   ],
   "source": [
    "data.info()"
   ]
  },
  {
   "cell_type": "code",
   "execution_count": 15,
   "metadata": {},
   "outputs": [
    {
     "data": {
      "text/plain": [
       "PassengerId      0\n",
       "Survived         0\n",
       "Pclass           0\n",
       "Name             0\n",
       "Sex              0\n",
       "Age            177\n",
       "SibSp            0\n",
       "Parch            0\n",
       "Ticket           0\n",
       "Fare             0\n",
       "Cabin          687\n",
       "Embarked         2\n",
       "dtype: int64"
      ]
     },
     "execution_count": 15,
     "metadata": {},
     "output_type": "execute_result"
    }
   ],
   "source": [
    "data.isnull().sum()\n"
   ]
  },
  {
   "cell_type": "markdown",
   "metadata": {},
   "source": [
    "Filling the misisng data"
   ]
  },
  {
   "cell_type": "code",
   "execution_count": 16,
   "metadata": {},
   "outputs": [],
   "source": [
    "data['Age']=data['Age'].fillna(data['Age'].median())\n",
    "data['Embarked']=data['Embarked'].fillna(data['Embarked'].mode()[0])"
   ]
  },
  {
   "cell_type": "code",
   "execution_count": 17,
   "metadata": {},
   "outputs": [
    {
     "data": {
      "text/plain": [
       "PassengerId      0\n",
       "Survived         0\n",
       "Pclass           0\n",
       "Name             0\n",
       "Sex              0\n",
       "Age              0\n",
       "SibSp            0\n",
       "Parch            0\n",
       "Ticket           0\n",
       "Fare             0\n",
       "Cabin          687\n",
       "Embarked         0\n",
       "dtype: int64"
      ]
     },
     "execution_count": 17,
     "metadata": {},
     "output_type": "execute_result"
    }
   ],
   "source": [
    "data.isnull().sum()"
   ]
  },
  {
   "cell_type": "code",
   "execution_count": null,
   "metadata": {},
   "outputs": [],
   "source": [
    "def eda_analysise(data_summary):\n",
    "    prompt=f\"Analyze given summary and give ingsights:\\n\\n{data_summary}\"\n",
    "    summary=ollama.chat(model=\"mistral\",messages=[{\"role\":\"user\",\"content\":prompt}])\n",
    "    return summary[\"message\"][\"content\"]"
   ]
  },
  {
   "cell_type": "code",
   "execution_count": 22,
   "metadata": {},
   "outputs": [
    {
     "name": "stdout",
     "output_type": "stream",
     "text": [
      " Insights from the summary:\n",
      "\n",
      "1. The total number of passengers is 891, with no missing values for any feature.\n",
      "\n",
      "2. The average age of passengers is approximately 29.4 years, and the standard deviation is around 13.0 years. This suggests a wide range of ages among the passengers.\n",
      "\n",
      "3. The majority (~62%) of passengers did not survive the sinking of the Titanic, as indicated by the mean Survived value of 0.38.\n",
      "\n",
      "4. Passengers were predominantly from the Third Class (Pclass=3), with an average Pclass of 2.3 and a standard deviation of 0.8. This implies that there were fewer First Class (Pclass=1) and Second Class (Pclass=2) passengers compared to Third Class passengers.\n",
      "\n",
      "5. The average number of siblings/spouses accompanying passengers was about 0.5, while the average number of parents/children with them was approximately 0.4. This suggests that only a small percentage of passengers had family members traveling with them.\n",
      "\n",
      "6. The average Fare paid by passengers was around $32.20, but there is considerable variation in fares, with a standard deviation of about $49.69. This indicates a wide range of ticket prices for the passengers.\n",
      "\n",
      "7. The minimum Fare was zero dollars, suggesting that some passengers were likely crew members or had special privileges.\n",
      "\n",
      "8. There are no missing values for any features in the dataset, which is important for analysis and interpretation.\n"
     ]
    }
   ],
   "source": [
    "data_summary=data.describe()\n",
    "ingsights=eda_analysise(data_summary)\n",
    "print(ingsights)"
   ]
  },
  {
   "cell_type": "code",
   "execution_count": 23,
   "metadata": {},
   "outputs": [],
   "source": [
    "def eda_analysise_model_2(data_summary):\n",
    "    prompt=f\"Analyze given summary and give ingsights:\\n\\n{data_summary}\"\n",
    "    summary=ollama.chat(model=\"deepseek-r1\",messages=[{\"role\":\"user\",\"content\":prompt}])\n",
    "    return summary[\"message\"][\"content\"]"
   ]
  },
  {
   "cell_type": "code",
   "execution_count": 24,
   "metadata": {},
   "outputs": [],
   "source": [
    "def eda_analysise_model_3(data_summary):\n",
    "    prompt=f\"Analyze given summary and give ingsights:\\n\\n{data_summary}\"\n",
    "    summary=ollama.chat(model=\"llama3.2-vision\",messages=[{\"role\":\"user\",\"content\":prompt}])\n",
    "    return summary[\"message\"][\"content\"]"
   ]
  },
  {
   "cell_type": "code",
   "execution_count": 25,
   "metadata": {},
   "outputs": [
    {
     "name": "stdout",
     "output_type": "stream",
     "text": [
      "<think>\n",
      "Okay, so I'm trying to analyze this summary of the Titanic passenger data. Let me go through each section step by step.\n",
      "\n",
      "First, looking at the PassengerId, all values are present since count is 891 and mean is 446. So no missing data there.\n",
      "\n",
      "Next up are the Survived stats. The mean is about 0.384, which means only around 38% of passengers survived. That's pretty low. Half of them didn't survive at all because both median and 25% quartiles are zero. It seems like survival was rare.\n",
      "\n",
      "Then there's Pclass information. Mean is roughly 2.309, so most passengers were in the second class (since classes go from lower to higher numerically). Minimum age in third class is as low as 0.42 years old. The majority are adults because 75% of them are over 28.\n",
      "\n",
      "Looking at SibSp, which is siblings or spouses, a lot of people had none. Only 36% had one sibling/spouse and nearly all had less than two on average. \n",
      "\n",
      "Parch shows that most passengers didn't have any parents/children with them—only about 40% did, mostly one parent. The max here is six, so someone might be traveling with up to five relatives.\n",
      "\n",
      "Fare prices vary a lot. A quarter of the tickets were under $8, but half are over $14 and three quarters over $31. The max fare was almost $512, which must have been first class or something special.\n",
      "\n",
      "Putting this all together, I think the ship had a mostly young passenger list with most in second and third classes. Survival was tough for everyone, maybe due to lack of lifeboats or other factors. Fare distribution shows both budget travel and premium tickets were sold.\n",
      "</think>\n",
      "\n",
      "The analysis of the provided summary reveals several insights about the Titanic passenger data:\n",
      "\n",
      "1. **Passenger Demographics:**\n",
      "   - There are 891 passengers on board, with an average age of approximately 44.6 years, suggesting a mostly young or adult group.\n",
      "   - The majority of passengers were in the second class (Pclass = 2), indicating that classes 2 and 3 were more common.\n",
      "\n",
      "2. **Survival Rates:**\n",
      "   - Survived rate is low, with only about 38% of passengers surviving. This suggests that survival was rare on the Titanic.\n",
      "   - A significant number of passengers did not survive (75% at the 75th percentile), highlighting the high mortality rate.\n",
      "\n",
      "3. **Age Distribution:**\n",
      "   - The minimum age among passengers is very low, indicating a diverse age range from infants to adults.\n",
      "   - Most passengers are adults, with only about 24% under 18 years old and nearly all over 28 years of age at the 75th percentile.\n",
      "\n",
      "4. **Family Members:**\n",
      "   - Passengers rarely traveled alone; fewer than half had siblings or spouses (SibSp < 1).\n",
      "   - Similarly, most passengers did not have parents or children traveling with them (Parch = 0).\n",
      "\n",
      "5. **Fare Prices:**\n",
      "   - The majority of tickets were in the budget range ($7 to $31), but a small number were expensive.\n",
      "   - The maximum fare was very high at nearly $512, indicating premium travel options.\n",
      "\n",
      "**Overall Insights:**\n",
      "\n",
      "- The passenger list is predominantly from second and third classes. \n",
      "- Survival rates are low, possibly due to insufficient lifeboats or other factors during the disaster.\n",
      "- The age distribution suggests a mix of young and adult passengers, with most being adults.\n",
      "- Family and travel companionship were uncommon among passengers.\n",
      "- Fare prices indicate a wide range of travel options on board.\n",
      "\n",
      "These insights provide context for understanding the dynamics of who was aboard the Titanic and the outcomes of its ill-fated voyage.\n"
     ]
    }
   ],
   "source": [
    "data_summary=data.describe()\n",
    "ingsights=eda_analysise_model_2(data_summary)\n",
    "print(ingsights)"
   ]
  },
  {
   "cell_type": "code",
   "execution_count": 26,
   "metadata": {},
   "outputs": [
    {
     "name": "stdout",
     "output_type": "stream",
     "text": [
      "**Summary Analysis**\n",
      "\n",
      "The provided summary appears to be a statistical overview of the Titanic dataset, specifically focusing on the passenger demographics and characteristics.\n",
      "\n",
      "**Key Insights:**\n",
      "\n",
      "1. **Survival Rate**: The survival rate is approximately 38% (0.383838). This implies that about two-thirds of passengers did not survive the tragedy.\n",
      "2. **Age Distribution**: The mean age is around 29 years old, with a standard deviation of over 13 years. This suggests a relatively young passenger population, with many in their mid-to-late 20s and early 30s.\n",
      "3. **Social Class**: The majority of passengers (over 70%) were from the lower classes (Pclass = 3), while only about 18% belonged to the upper class (Pclass = 1).\n",
      "4. **Fare Distribution**: Fares ranged from $0 to over $500, with a mean fare around $32. The majority of passengers paid between $7 and $31.\n",
      "5. **Family Size**: The average number of siblings/spouses (SibSp) is about half, suggesting many families were traveling together. However, the maximum value of 8 indicates some larger family groups.\n",
      "6. **Age and Survival**: There appears to be a negative correlation between age and survival rate. This could indicate that younger passengers had better access to lifeboats or experienced fewer barriers to escaping.\n",
      "\n",
      "**Questions for Further Analysis:**\n",
      "\n",
      "1. What are the demographics of surviving versus non-surviving passengers?\n",
      "2. How do fare prices influence survival rates?\n",
      "3. Are there any correlations between Pclass, SibSp, and Age that could explain differences in survival outcomes?\n",
      "\n",
      "This analysis provides a starting point for exploring the Titanic dataset and uncovering insights into the tragic events that occurred on April 14, 1912.\n"
     ]
    }
   ],
   "source": [
    "data_summary=data.describe()\n",
    "ingsights=eda_analysise_model_3(data_summary)\n",
    "print(ingsights)"
   ]
  },
  {
   "cell_type": "code",
   "execution_count": null,
   "metadata": {},
   "outputs": [
    {
     "name": "stdout",
     "output_type": "stream",
     "text": [
      "* Running on local URL:  http://127.0.0.1:7861\n",
      "\n",
      "To create a public link, set `share=True` in `launch()`.\n"
     ]
    },
    {
     "data": {
      "text/html": [
       "<div><iframe src=\"http://127.0.0.1:7861/\" width=\"100%\" height=\"500\" allow=\"autoplay; camera; microphone; clipboard-read; clipboard-write;\" frameborder=\"0\" allowfullscreen></iframe></div>"
      ],
      "text/plain": [
       "<IPython.core.display.HTML object>"
      ]
     },
     "metadata": {},
     "output_type": "display_data"
    },
    {
     "data": {
      "text/plain": []
     },
     "execution_count": 29,
     "metadata": {},
     "output_type": "execute_result"
    }
   ],
   "source": [
    "def eda_analysise(file):\n",
    "    data=pd.read_csv(file)\n",
    "    data_summary=data.describe().to_string()\n",
    "    prompt=f\"Analyze given summary and give ingsights:\\n\\n{data_summary}\"\n",
    "    summary=ollama.chat(model=\"mistral\",messages=[{\"role\":\"user\",\"content\":prompt}])\n",
    "    return summary[\"message\"][\"content\"]\n",
    "demo=gr.Interface(fn=eda_analysise,inputs=\"file\",outputs='text',title=\"AI powered EDA using Mistral\")\n",
    "demo.launch()"
   ]
  },
  {
   "cell_type": "code",
   "execution_count": null,
   "metadata": {},
   "outputs": [],
   "source": []
  }
 ],
 "metadata": {
  "kernelspec": {
   "display_name": "Python 3",
   "language": "python",
   "name": "python3"
  },
  "language_info": {
   "codemirror_mode": {
    "name": "ipython",
    "version": 3
   },
   "file_extension": ".py",
   "mimetype": "text/x-python",
   "name": "python",
   "nbconvert_exporter": "python",
   "pygments_lexer": "ipython3",
   "version": "3.12.6"
  }
 },
 "nbformat": 4,
 "nbformat_minor": 2
}
